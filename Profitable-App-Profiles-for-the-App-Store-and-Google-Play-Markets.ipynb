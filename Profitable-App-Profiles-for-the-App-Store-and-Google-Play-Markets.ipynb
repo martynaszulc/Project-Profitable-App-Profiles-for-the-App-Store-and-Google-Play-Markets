{
  "nbformat": 4,
  "nbformat_minor": 0,
  "metadata": {
    "colab": {
      "name": "Untitled5.ipynb",
      "provenance": [],
      "authorship_tag": "ABX9TyOPqBT25ti0MzwiXD3VwppQ"
    },
    "kernelspec": {
      "name": "python3",
      "display_name": "Python 3"
    },
    "language_info": {
      "name": "python"
    }
  },
  "cells": [
    {
      "cell_type": "markdown",
      "metadata": {
        "id": "TQZ2x5uWsmIL"
      },
      "source": [
        "# Guided Project: Profitable App Profiles for the App Store and Google Play Markets"
      ]
    },
    {
      "cell_type": "markdown",
      "source": [
        "## Open datasets as lists of lists of strings + explore the datasets"
      ],
      "metadata": {
        "id": "OlsKqSETRF68"
      }
    },
    {
      "cell_type": "code",
      "metadata": {
        "colab": {
          "base_uri": "https://localhost:8080/"
        },
        "id": "573-X3_jU7A8",
        "outputId": "216a7215-632f-4dfa-9896-ca0bac4d46ae"
      },
      "source": [
        "def from_csv_url_to_list_of_lists_of_strings(url):\n",
        "  from requests import get\n",
        "  response = get(url)\n",
        "  text = response.text.encode(encoding=response.encoding).decode(encoding='utf8')\n",
        "  list_of_lines = text.split('\\n')\n",
        "  if list_of_lines[-1] == '':\n",
        "    print(f'The empty last line was removed while processing {url}.')\n",
        "    del list_of_lines[-1]\n",
        "  from csv import reader\n",
        "  return list(reader(list_of_lines))\n",
        "\n",
        "url = 'https://dq-content.s3.amazonaws.com/350/googleplaystore.csv'\n",
        "google_requests_get = from_csv_url_to_list_of_lists_of_strings(url)\n",
        "url = 'https://dq-content.s3.amazonaws.com/350/AppleStore.csv'\n",
        "apple_requests_get = from_csv_url_to_list_of_lists_of_strings(url)"
      ],
      "execution_count": null,
      "outputs": [
        {
          "output_type": "stream",
          "name": "stdout",
          "text": [
            "The empty last line was removed while processing https://dq-content.s3.amazonaws.com/350/AppleStore.csv.\n"
          ]
        }
      ]
    },
    {
      "cell_type": "code",
      "metadata": {
        "id": "geSk4m5zVcd4"
      },
      "source": [
        "android_apps = google_requests_get\n",
        "ios_apps = apple_requests_get"
      ],
      "execution_count": null,
      "outputs": []
    },
    {
      "cell_type": "markdown",
      "metadata": {
        "id": "7U3b__zm9r4C"
      },
      "source": [
        "Wczytujemy dane z plików AppleStore.csv oraz googleplaystore.csv za pomocą stworzonej funkcji from_csv_url_to_list_of_lists_of_strings."
      ]
    },
    {
      "cell_type": "markdown",
      "metadata": {
        "id": "qKv0G879Qn4r"
      },
      "source": [
        "Tworzymy funkcje do eksploracji, wypisania pierwszych wierszy w pliku oraz wypisania liczebności wszystkich kolumn i wierszy. Dodanie \\n do printa powoduje przerwę w celu wyraźniejszego odczytu wyniku."
      ]
    },
    {
      "cell_type": "code",
      "metadata": {
        "id": "xakjzFQuQztv"
      },
      "source": [
        "def exploring_data(dataset, start, end, rows_and_columns=False):\n",
        "  dataset_slice=dataset[start:end]\n",
        "  for row in dataset_slice:\n",
        "    print(row, '\\n')\n",
        "\n",
        "  if rows_and_columns:\n",
        "    print('Liczba wierszy:', len(dataset))\n",
        "    print('Liczba kolumn:', len(dataset[0]))"
      ],
      "execution_count": null,
      "outputs": []
    },
    {
      "cell_type": "markdown",
      "metadata": {
        "id": "Ui1nu1N-bpRl"
      },
      "source": [
        "*Etap 3.* Przetestowanie funkcji na naszych zbiorach danych."
      ]
    },
    {
      "cell_type": "code",
      "metadata": {
        "colab": {
          "base_uri": "https://localhost:8080/"
        },
        "id": "yNq1CakAb-ZF",
        "outputId": "837dca04-a958-4184-caee-ca06a8afae00"
      },
      "source": [
        "exploring_data(android_apps, 0, 5, True)\n",
        "print('\\n')\n",
        "exploring_data(ios_apps, 0, 5, True)"
      ],
      "execution_count": null,
      "outputs": [
        {
          "output_type": "stream",
          "name": "stdout",
          "text": [
            "['App', 'Category', 'Rating', 'Reviews', 'Size', 'Installs', 'Type', 'Price', 'Content Rating', 'Genres', 'Last Updated', 'Current Ver', 'Android Ver'] \n",
            "\n",
            "['Photo Editor & Candy Camera & Grid & ScrapBook', 'ART_AND_DESIGN', '4.1', '159', '19M', '10,000+', 'Free', '0', 'Everyone', 'Art & Design', 'January 7, 2018', '1.0.0', '4.0.3 and up'] \n",
            "\n",
            "['Coloring book moana', 'ART_AND_DESIGN', '3.9', '967', '14M', '500,000+', 'Free', '0', 'Everyone', 'Art & Design;Pretend Play', 'January 15, 2018', '2.0.0', '4.0.3 and up'] \n",
            "\n",
            "['U Launcher Lite – FREE Live Cool Themes, Hide Apps', 'ART_AND_DESIGN', '4.7', '87510', '8.7M', '5,000,000+', 'Free', '0', 'Everyone', 'Art & Design', 'August 1, 2018', '1.2.4', '4.0.3 and up'] \n",
            "\n",
            "['Sketch - Draw & Paint', 'ART_AND_DESIGN', '4.5', '215644', '25M', '50,000,000+', 'Free', '0', 'Teen', 'Art & Design', 'June 8, 2018', 'Varies with device', '4.2 and up'] \n",
            "\n",
            "Liczba wierszy: 10842\n",
            "Liczba kolumn: 13\n",
            "\n",
            "\n",
            "['id', 'track_name', 'size_bytes', 'currency', 'price', 'rating_count_tot', 'rating_count_ver', 'user_rating', 'user_rating_ver', 'ver', 'cont_rating', 'prime_genre', 'sup_devices.num', 'ipadSc_urls.num', 'lang.num', 'vpp_lic'] \n",
            "\n",
            "['284882215', 'Facebook', '389879808', 'USD', '0.0', '2974676', '212', '3.5', '3.5', '95.0', '4+', 'Social Networking', '37', '1', '29', '1'] \n",
            "\n",
            "['389801252', 'Instagram', '113954816', 'USD', '0.0', '2161558', '1289', '4.5', '4.0', '10.23', '12+', 'Photo & Video', '37', '0', '29', '1'] \n",
            "\n",
            "['529479190', 'Clash of Clans', '116476928', 'USD', '0.0', '2130805', '579', '4.5', '4.5', '9.24.12', '9+', 'Games', '38', '5', '18', '1'] \n",
            "\n",
            "['420009108', 'Temple Run', '65921024', 'USD', '0.0', '1724546', '3842', '4.5', '4.0', '1.6.2', '9+', 'Games', '40', '5', '1', '1'] \n",
            "\n",
            "Liczba wierszy: 7198\n",
            "Liczba kolumn: 16\n"
          ]
        }
      ]
    },
    {
      "cell_type": "markdown",
      "source": [
        "## Deleting a flawed row"
      ],
      "metadata": {
        "id": "e7C9XVaWMhpJ"
      }
    },
    {
      "cell_type": "markdown",
      "source": [
        "Usuwamy błędne rekordy ze zbioru danych. Tworzymy nową funkcję delete_wrong_rating_row. Bedzie sprawdzała, czy dany wiersz ma prawidłowo sformułowaną nazwe, tzn. czy wystąpi znak float."
      ],
      "metadata": {
        "id": "f2fXrqz9MIpM"
      }
    },
    {
      "cell_type": "code",
      "source": [
        "def delete_wrong_rating_row(n):\n",
        "  rating = android_apps[n][2]\n",
        "  if float(rating) > 5:\n",
        "    del android_apps[n]\n",
        "    print('Usunięto wiersz ' + str(n))\n",
        "  else:\n",
        "    print('Nic nie zostało usunięte')"
      ],
      "metadata": {
        "id": "QyRZTwFlMMgb"
      },
      "execution_count": null,
      "outputs": []
    },
    {
      "cell_type": "code",
      "source": [
        "delete_wrong_rating_row(10473)"
      ],
      "metadata": {
        "colab": {
          "base_uri": "https://localhost:8080/"
        },
        "id": "CQ2N9x9oMO6m",
        "outputId": "6ef5b152-2ac3-4348-c537-a6162412d272"
      },
      "execution_count": null,
      "outputs": [
        {
          "output_type": "stream",
          "name": "stdout",
          "text": [
            "Nic nie zostało usunięte\n"
          ]
        }
      ]
    },
    {
      "cell_type": "markdown",
      "source": [
        "## Discover duplicate apps"
      ],
      "metadata": {
        "id": "mwUuSxjwRXus"
      }
    },
    {
      "cell_type": "markdown",
      "metadata": {
        "id": "bPzvxdcCgr9y"
      },
      "source": [
        "Musimy stworzyć listę, w której będziemy mieli pewność, że dana aplikacja nie jest powtórzona. Tworzymy puste krotki o nazwie duplicate_apps oraz unique_apps. Sprawdzamy czy w zbiorze danych app występuje kilkakrotne występowanie tej samej nazwy aplikacji, jeśli nie, to nazwa zostaje dodana do unique_apps. Jeśli występuje kilkakrotnie, nazwa zostaje dodana do duplicate_apps. Zliczamy obie pozycje."
      ]
    },
    {
      "cell_type": "code",
      "source": [
        "def duplicate_checkup(dataa, column=0, printuj=True):\n",
        "  duplicate_apps = []\n",
        "  unique_apps = []\n",
        "\n",
        "  for app in dataa:\n",
        "    name = app[column]\n",
        "    if name in unique_apps:\n",
        "      duplicate_apps.append(name)\n",
        "    else:\n",
        "      unique_apps.append(name)\n",
        "\n",
        "  if printuj:\n",
        "    print('Liczba zduplikowanych aplikacji:', len(duplicate_apps))\n",
        "    print('Powinno być:', len(unique_apps))\n",
        "  return len(unique_apps)"
      ],
      "metadata": {
        "id": "YDMgQsVFssBX"
      },
      "execution_count": null,
      "outputs": []
    },
    {
      "cell_type": "code",
      "source": [
        "duplicate_checkup(android_apps[1:], 0)\n",
        "duplicate_checkup(ios_apps[1:], 1);"
      ],
      "metadata": {
        "colab": {
          "base_uri": "https://localhost:8080/"
        },
        "id": "8av04_-oss9v",
        "outputId": "fe55f999-f6ee-4907-d994-6abd9cd116a0"
      },
      "execution_count": null,
      "outputs": [
        {
          "output_type": "stream",
          "name": "stdout",
          "text": [
            "Liczba zduplikowanych aplikacji: 1181\n",
            "Powinno być: 9659\n",
            "Liczba zduplikowanych aplikacji: 2\n",
            "Powinno być: 7195\n"
          ]
        }
      ]
    },
    {
      "cell_type": "markdown",
      "metadata": {
        "id": "-cFKEoXpgHak"
      },
      "source": [
        "Aplikacja Instagram jest zachowana w różnych rekordach. Można to sprawdzić poniższym kodem. Takim sprawdzeniem unikniemy mylnego usunięcia prawidłowych komórek."
      ]
    },
    {
      "cell_type": "code",
      "metadata": {
        "colab": {
          "base_uri": "https://localhost:8080/"
        },
        "id": "-jCoL347gaay",
        "outputId": "0dc5d71a-04c5-488f-d921-9cf5692c8afc"
      },
      "source": [
        "for app in android_apps:\n",
        "  name=app[0]\n",
        "  if name == \"Instagram\":\n",
        "    print(app)"
      ],
      "execution_count": null,
      "outputs": [
        {
          "output_type": "stream",
          "name": "stdout",
          "text": [
            "['Instagram', 'SOCIAL', '4.5', '66577313', 'Varies with device', '1,000,000,000+', 'Free', '0', 'Teen', 'Social', 'July 31, 2018', 'Varies with device', 'Varies with device']\n",
            "['Instagram', 'SOCIAL', '4.5', '66577446', 'Varies with device', '1,000,000,000+', 'Free', '0', 'Teen', 'Social', 'July 31, 2018', 'Varies with device', 'Varies with device']\n",
            "['Instagram', 'SOCIAL', '4.5', '66577313', 'Varies with device', '1,000,000,000+', 'Free', '0', 'Teen', 'Social', 'July 31, 2018', 'Varies with device', 'Varies with device']\n",
            "['Instagram', 'SOCIAL', '4.5', '66509917', 'Varies with device', '1,000,000,000+', 'Free', '0', 'Teen', 'Social', 'July 31, 2018', 'Varies with device', 'Varies with device']\n"
          ]
        }
      ]
    },
    {
      "cell_type": "markdown",
      "source": [
        "## Remove duplicate apps"
      ],
      "metadata": {
        "id": "dcLGgrv8S17D"
      }
    },
    {
      "cell_type": "markdown",
      "source": [
        "Przechodzimy do usunięcia zduplikowanych aplikacji. Jeśli dana aplikacja pojawia się pierwszy raz, to dodajemy go do listy google_aps. Jeśli pojawi się po raz kolejny sprawdzamy jego reviews, a jeśli ta liczba jest większa od reviews poprzednika podmieniamy aplikację w liście google_apps."
      ],
      "metadata": {
        "id": "e0rvHRZgLqOi"
      }
    },
    {
      "cell_type": "code",
      "metadata": {
        "id": "1uc2dVOFjLD8"
      },
      "source": [
        "google_apps = {}\n",
        "for app in android_apps[1:]:\n",
        "  name = app[0]\n",
        "  if name not in google_apps:\n",
        "    google_apps[name] = app\n",
        "  else:\n",
        "    current_n_reviews = int(app[3])\n",
        "    stored_n_reviews = int(google_apps[name][3])\n",
        "    if current_n_reviews >= stored_n_reviews:\n",
        "      google_apps[name] = app"
      ],
      "execution_count": null,
      "outputs": []
    },
    {
      "cell_type": "code",
      "source": [
        "bez_duplikacji = list(google_apps.values())\n",
        "duplicate_checkup(bez_duplikacji)"
      ],
      "metadata": {
        "colab": {
          "base_uri": "https://localhost:8080/"
        },
        "id": "pqM7G9L6KT3W",
        "outputId": "13ad005d-74c1-43b9-9f08-f480ceb200c4"
      },
      "execution_count": null,
      "outputs": [
        {
          "output_type": "stream",
          "name": "stdout",
          "text": [
            "Liczba zduplikowanych aplikacji: 0\n",
            "Powinno być: 9659\n"
          ]
        },
        {
          "output_type": "execute_result",
          "data": {
            "text/plain": [
              "9659"
            ]
          },
          "metadata": {},
          "execution_count": 11
        }
      ]
    },
    {
      "cell_type": "markdown",
      "source": [
        "Dla zbioru danych ios_apps:"
      ],
      "metadata": {
        "id": "mbDxNbOlK6fs"
      }
    },
    {
      "cell_type": "code",
      "source": [
        "apps_ios = {}\n",
        "for app in ios_apps[1:]:\n",
        "  name = app[0]\n",
        "  if name not in apps_ios:\n",
        "    apps_ios[name] = app\n",
        "  else:\n",
        "    current_n_reviews = int(app[3])\n",
        "    stored_n_reviews = int(apps_ios[name][3])\n",
        "    if current_n_reviews >= stored_n_reviews:\n",
        "      apps_ios[name] = app"
      ],
      "metadata": {
        "id": "0z81FVM4K8E-"
      },
      "execution_count": null,
      "outputs": []
    },
    {
      "cell_type": "code",
      "source": [
        "ios_bez_duplikacji = list(apps_ios.values())\n",
        "duplicate_checkup(ios_bez_duplikacji)"
      ],
      "metadata": {
        "colab": {
          "base_uri": "https://localhost:8080/"
        },
        "id": "2KZ8A4ZfLIDT",
        "outputId": "ccfd877a-6285-44c0-dbab-ce10b9bb2fcd"
      },
      "execution_count": null,
      "outputs": [
        {
          "output_type": "stream",
          "name": "stdout",
          "text": [
            "Liczba zduplikowanych aplikacji: 0\n",
            "Powinno być: 7197\n"
          ]
        },
        {
          "output_type": "execute_result",
          "data": {
            "text/plain": [
              "7197"
            ]
          },
          "metadata": {},
          "execution_count": 13
        }
      ]
    },
    {
      "cell_type": "markdown",
      "source": [
        "## Non-English characters"
      ],
      "metadata": {
        "id": "bjAH4mJ8Krvc"
      }
    },
    {
      "cell_type": "markdown",
      "metadata": {
        "id": "IxiysZQ8fRrs"
      },
      "source": [
        "Następnym krokiem projektu jest wykonanie funkcji, która pozbędzie się znaków specjalnych z rekordu. Interesuje nas, czy wartość jest w typie string oraz czy jest napisana w języku angielskim, ponieważ inne języki mogą zakłócać odbiór danych. Ustawiamy odgórny warunek 127."
      ]
    },
    {
      "cell_type": "code",
      "metadata": {
        "id": "DnPIR0fPQkdd"
      },
      "source": [
        "def characters(string):\n",
        "  for character in string:\n",
        "    if ord(character) > 127:\n",
        "      return False\n",
        "  return True"
      ],
      "execution_count": null,
      "outputs": []
    },
    {
      "cell_type": "markdown",
      "metadata": {
        "id": "l-b4hOiuRO0X"
      },
      "source": [
        "Sprawdzamy funkcję na podanych przez projekt danych."
      ]
    },
    {
      "cell_type": "code",
      "metadata": {
        "id": "5tMgOftfRTS6",
        "colab": {
          "base_uri": "https://localhost:8080/"
        },
        "outputId": "0f9dc10f-bf05-4be0-cfd9-e2abb586b7df"
      },
      "source": [
        "print(characters(\"Instagram\"))\n",
        "print(characters(\"爱奇艺PPS -《欢乐颂2》电视剧热播\"))\n",
        "print(characters(\"'Docs To Go™ Free Office Suite\"))\n",
        "print(characters(\"Instachat 😜\"))"
      ],
      "execution_count": null,
      "outputs": [
        {
          "output_type": "stream",
          "name": "stdout",
          "text": [
            "True\n",
            "False\n",
            "False\n",
            "False\n"
          ]
        }
      ]
    },
    {
      "cell_type": "markdown",
      "metadata": {
        "id": "Rs5H-Kn2RkDl"
      },
      "source": [
        "Zgodnie z naszymi przypuszczeniami, funkcja zwróciła nam True jedynie w pierwszym przypadku, kiedy dostarczyliśmy dane w typie string napisaną w języku angielskim bez znaków specjalnych. Jednak nasza funkcja nie jest kompletna, ponieważ odrzuca aplikacje, która w rzeczywistości jest w języku angielskim, ale posiada emotikonę, tak jak to jest w przypadku Instachat 😜 oraz Go™. Edytując naszą funkcję, możemy temu zapobiec. Dodajemy warunek, żeby ilość znaków specjalnych nie pasujących do naszego kryterium nie przekraczała liczby 3."
      ]
    },
    {
      "cell_type": "code",
      "metadata": {
        "id": "iLdjDoSKg19k"
      },
      "source": [
        "def characters(string):\n",
        "  n_english=0\n",
        "\n",
        "  for character in string:\n",
        "    if ord(character) > 127:\n",
        "      n_english += 1\n",
        "    \n",
        "  if n_english > 3:\n",
        "      return False\n",
        "  else:\n",
        "    return True"
      ],
      "execution_count": null,
      "outputs": []
    },
    {
      "cell_type": "markdown",
      "metadata": {
        "id": "sQlaVoxthFdX"
      },
      "source": [
        "Sprawdzamy teraz nasze dane."
      ]
    },
    {
      "cell_type": "code",
      "metadata": {
        "id": "YBU6SXAghHlA",
        "colab": {
          "base_uri": "https://localhost:8080/"
        },
        "outputId": "7ec6f426-089b-45dd-95b6-208f2f43ba72"
      },
      "source": [
        "print(characters(\"Instagram\"))\n",
        "print(characters(\"爱奇艺PPS -《欢乐颂2》电视剧热播\"))\n",
        "print(characters(\"'Docs To Go™ Free Office Suite\"))\n",
        "print(characters(\"Instachat 😜\"))"
      ],
      "execution_count": null,
      "outputs": [
        {
          "output_type": "stream",
          "name": "stdout",
          "text": [
            "True\n",
            "False\n",
            "True\n",
            "True\n"
          ]
        }
      ]
    },
    {
      "cell_type": "markdown",
      "metadata": {
        "id": "QHxD7l1vhSFE"
      },
      "source": [
        "Nasza funkcja jest teraz kompletna."
      ]
    },
    {
      "cell_type": "markdown",
      "metadata": {
        "id": "IN4ap0FrSpc8"
      },
      "source": [
        "Bazując na tej funkcji, możemy przefitrować oba zbiory danych w poszukiwaniu rekordów w języku angielskim. Sprawdza nazwę aplikacji w kolumnie 0 w kontekście znaków specjalnych i dodaje je do android_english dla pierwszego zbioru danych i do ios_english dla drugiego zbioru."
      ]
    },
    {
      "cell_type": "code",
      "metadata": {
        "id": "JMejzpCcTErB",
        "colab": {
          "base_uri": "https://localhost:8080/"
        },
        "outputId": "8fb57b8f-d5cc-4226-a4ea-1e1928ce2870"
      },
      "source": [
        "android_english=[]\n",
        "ios_english=[]\n",
        "\n",
        "for app in bez_duplikacji:\n",
        "    name=app[0]\n",
        "    if characters(name):\n",
        "      android_english.append(app)\n",
        "\n",
        "\n",
        "for app in ios_bez_duplikacji:\n",
        "    name=app[1]\n",
        "    if characters(name):\n",
        "      ios_english.append(app)\n",
        "\n",
        "exploring_data(android_english, 0, 3, True)\n",
        "print(\"\\n\")\n",
        "exploring_data(ios_english, 0, 3, True)\n",
        "\n"
      ],
      "execution_count": null,
      "outputs": [
        {
          "output_type": "stream",
          "name": "stdout",
          "text": [
            "['Photo Editor & Candy Camera & Grid & ScrapBook', 'ART_AND_DESIGN', '4.1', '159', '19M', '10,000+', 'Free', '0', 'Everyone', 'Art & Design', 'January 7, 2018', '1.0.0', '4.0.3 and up'] \n",
            "\n",
            "['Coloring book moana', 'FAMILY', '3.9', '974', '14M', '500,000+', 'Free', '0', 'Everyone', 'Art & Design;Pretend Play', 'January 15, 2018', '2.0.0', '4.0.3 and up'] \n",
            "\n",
            "['U Launcher Lite – FREE Live Cool Themes, Hide Apps', 'ART_AND_DESIGN', '4.7', '87510', '8.7M', '5,000,000+', 'Free', '0', 'Everyone', 'Art & Design', 'August 1, 2018', '1.2.4', '4.0.3 and up'] \n",
            "\n",
            "Liczba wierszy: 9614\n",
            "Liczba kolumn: 13\n",
            "\n",
            "\n",
            "['284882215', 'Facebook', '389879808', 'USD', '0.0', '2974676', '212', '3.5', '3.5', '95.0', '4+', 'Social Networking', '37', '1', '29', '1'] \n",
            "\n",
            "['389801252', 'Instagram', '113954816', 'USD', '0.0', '2161558', '1289', '4.5', '4.0', '10.23', '12+', 'Photo & Video', '37', '0', '29', '1'] \n",
            "\n",
            "['529479190', 'Clash of Clans', '116476928', 'USD', '0.0', '2130805', '579', '4.5', '4.5', '9.24.12', '9+', 'Games', '38', '5', '18', '1'] \n",
            "\n",
            "Liczba wierszy: 6183\n",
            "Liczba kolumn: 16\n"
          ]
        }
      ]
    },
    {
      "cell_type": "markdown",
      "metadata": {
        "id": "Y75Bxik4e8lf"
      },
      "source": [
        "Otrzymaliśmy wynik dla zbioru danych Android 9614, a dla zbioru danych iOS 6183."
      ]
    },
    {
      "cell_type": "markdown",
      "metadata": {
        "id": "N1-ZUmOgfvMJ"
      },
      "source": [
        "Kolejną czynnością w celu oczyszczenia naszych danych jest podział zawartości naszych zbiorów na aplikacje darmowe i płatne. Wystarczy do tego celu przyrównanie ceny w kolumnie 4(dla iOS) oraz kolumny 7(dla Android) do liczby 0. Cena w zbiorze iOS jest jako float, dlatego musimy uwzględnić liczby po przecinku."
      ]
    },
    {
      "cell_type": "code",
      "metadata": {
        "id": "YsPFI12XkhJE"
      },
      "source": [
        "ios_free = []\n",
        "android_free = []\n",
        "\n",
        "for app in ios_english:\n",
        "    price = float(app[4])\n",
        "    if price == 0.0:\n",
        "        ios_free.append(app)\n",
        "        \n",
        "for app in android_english:\n",
        "    price = app[7]\n",
        "    if price == '0':\n",
        "            android_free.append(app)"
      ],
      "execution_count": null,
      "outputs": []
    },
    {
      "cell_type": "markdown",
      "metadata": {
        "id": "0_0MUCRqk-_P"
      },
      "source": [
        "Sprawdzimy ilość aplikacji."
      ]
    },
    {
      "cell_type": "code",
      "metadata": {
        "id": "bMRuvnO-lBP_",
        "colab": {
          "base_uri": "https://localhost:8080/"
        },
        "outputId": "6448d4e9-7c91-4915-d3b1-56eeb2da9069"
      },
      "source": [
        "print(len(android_free))\n",
        "print(len(ios_free))"
      ],
      "execution_count": null,
      "outputs": [
        {
          "output_type": "stream",
          "name": "stdout",
          "text": [
            "8864\n",
            "3222\n"
          ]
        }
      ]
    },
    {
      "cell_type": "markdown",
      "metadata": {
        "id": "3Lmln8-SmSML"
      },
      "source": [
        "Jest 8864 darmowych aplikacji w zbiorze Android oraz 3222 darmowych aplikacji w zbiorze iOS."
      ]
    },
    {
      "cell_type": "markdown",
      "source": [
        "## Most Popular Apps by Genre "
      ],
      "metadata": {
        "id": "N82TnyBCNHmp"
      }
    },
    {
      "cell_type": "markdown",
      "metadata": {
        "id": "RQpqYUDumkzM"
      },
      "source": [
        "Naszym celem jest znalezienie aplikacji, które mają szansę na przyciągnięcie użytkowników, ponieważ wraz z dużym zainteresowaniem dostajemy większe wynagrodzenie. \n",
        "\n",
        "Strategią na sprawdzenie jakie są szanse na osiągnięcie sukcesu jest wypuszczenie wersji początkowej. Jeśli zostanie ona zostanie dobrze przyjęta, wypuszczamy jej wersję ostateczną. Jeśli po określonym czasie aplikacja będzie dobrze prosperować, można ją rozwijać i dodać wersję na iOS. W naszym projekcie szukamy aplikacji odnoszące sukcesy na obu rynkach.\n",
        "\n",
        "Pierwszą rzeczą wartą przestudiowania jest sprawdzenie najczęściej występujących gatunków. Dla zbioru danych Android będzie to kolumna prime_genre a dla zbioru danych iOS będą to kolumny Genres i Category. Następnie można zbudować funkcję, która stworzy tzw. tabelę częstości, która zwróci nam wynik w postaci wartości procentowych. Bazując na tej funkcji można stworzyć drugą, ktorą wyświetli wartości procentowe w porządku malejącym.\n",
        "\n",
        "Sprawdzamy kolumny w naszym zbiorze danych. Wbudowana funkcja sorted() nie działa poprawnie ze słownikami, dlatego musimy zamienić słownik w liste krotek, gdzie każda taka krotka będzie zawierała klucz słownika z odpowiadającą mu wartością. Wartość słownika jest na pierwszym miejscu, a jego klucz na drugim, to jest warunek dobrego działania tej funkcji.\n",
        "\n",
        "Funkcja generuje tablicę częstości, która następnie jest przekształcana na listę krotek, a następnie stortuje ją w porządku malejącym."
      ]
    },
    {
      "cell_type": "code",
      "metadata": {
        "id": "bcZn0lNjucai"
      },
      "source": [
        "def freq_table(dataset, index):\n",
        "    table = {}\n",
        "    total = 0\n",
        "    \n",
        "    for row in dataset:\n",
        "        total += 1\n",
        "        value = row[index]\n",
        "        if value in table:\n",
        "            table[value] += 1\n",
        "        else:\n",
        "            table[value] = 1\n",
        "    \n",
        "    table_percentages = {}\n",
        "    for key in table:\n",
        "        percentage = table[key] / total * 100\n",
        "        table_percentages[key] = percentage\n",
        "        \n",
        "    return table_percentages"
      ],
      "execution_count": null,
      "outputs": []
    },
    {
      "cell_type": "code",
      "metadata": {
        "id": "JLCeht85wU3B"
      },
      "source": [
        "def display_table(dataset, index):\n",
        "    table = freq_table(dataset, index)\n",
        "    table_display = []\n",
        "    for key in table:\n",
        "        key_val_as_tuple = (table[key], key)\n",
        "        table_display.append(key_val_as_tuple)\n",
        "        \n",
        "    table_sorted = sorted(table_display, reverse = True)\n",
        "    for entry in table_sorted:\n",
        "        print(entry[1], ':', entry[0])"
      ],
      "execution_count": null,
      "outputs": []
    },
    {
      "cell_type": "markdown",
      "metadata": {
        "id": "Us0bZ15VxF1Q"
      },
      "source": [
        "Sprawdzamy teraz naszą funkcję dla zbioru danych Android oraz iOS. Zrobimy to najpierw dla drugiego zbioru, patrząc na kolumnę 11 w której znajdują się gatunki."
      ]
    },
    {
      "cell_type": "code",
      "metadata": {
        "id": "Pj_wQYJixJoI",
        "colab": {
          "base_uri": "https://localhost:8080/"
        },
        "outputId": "38c47308-6cfa-4395-a0a9-99b577e60eb5"
      },
      "source": [
        "display_table(ios_free, 11)"
      ],
      "execution_count": null,
      "outputs": [
        {
          "output_type": "stream",
          "name": "stdout",
          "text": [
            "Games : 58.16263190564867\n",
            "Entertainment : 7.883302296710118\n",
            "Photo & Video : 4.9658597144630665\n",
            "Education : 3.662321539416512\n",
            "Social Networking : 3.2898820608317814\n",
            "Shopping : 2.60707635009311\n",
            "Utilities : 2.5139664804469275\n",
            "Sports : 2.1415270018621975\n",
            "Music : 2.0484171322160147\n",
            "Health & Fitness : 2.0173805090006205\n",
            "Productivity : 1.7380509000620732\n",
            "Lifestyle : 1.5828677839851024\n",
            "News : 1.3345747982619491\n",
            "Travel : 1.2414649286157666\n",
            "Finance : 1.1173184357541899\n",
            "Weather : 0.8690254500310366\n",
            "Food & Drink : 0.8069522036002483\n",
            "Reference : 0.5586592178770949\n",
            "Business : 0.5276225946617008\n",
            "Book : 0.4345127250155183\n",
            "Navigation : 0.186219739292365\n",
            "Medical : 0.186219739292365\n",
            "Catalogs : 0.12414649286157665\n"
          ]
        }
      ]
    },
    {
      "cell_type": "markdown",
      "metadata": {
        "id": "eoPn6Z9IyByf"
      },
      "source": [
        "Widzimy, że największą popularnością wśród darmowych aplikacji dla iOS cieszy się gatunek Games z przybliżonym wynikiem 58.16, co stanowi większą połowę wszystkich aplikacji. Na następnym miejscu jest gatunek Entertainment(7.9), a za nim Photo&Video(5). \n",
        "\n",
        "Sprawdźmy teraz wyniki dla zbioru danych Android dla kolumny 9(Gatunek) oraz kolumny 1(Kategoria)."
      ]
    },
    {
      "cell_type": "code",
      "metadata": {
        "id": "U5QXn_z2yxij",
        "colab": {
          "base_uri": "https://localhost:8080/"
        },
        "outputId": "ec784c55-6eda-4372-bff7-7da03b8ee6cf"
      },
      "source": [
        "display_table(android_free, 1)\n",
        "print('\\n')\n",
        "display_table(android_free, 9)"
      ],
      "execution_count": null,
      "outputs": [
        {
          "output_type": "stream",
          "name": "stdout",
          "text": [
            "FAMILY : 18.94178700361011\n",
            "GAME : 9.713447653429604\n",
            "TOOLS : 8.461191335740072\n",
            "BUSINESS : 4.591606498194946\n",
            "LIFESTYLE : 3.9034296028880866\n",
            "PRODUCTIVITY : 3.892148014440433\n",
            "FINANCE : 3.7003610108303246\n",
            "MEDICAL : 3.531137184115524\n",
            "SPORTS : 3.395758122743682\n",
            "PERSONALIZATION : 3.3167870036101084\n",
            "COMMUNICATION : 3.2378158844765346\n",
            "HEALTH_AND_FITNESS : 3.0798736462093865\n",
            "PHOTOGRAPHY : 2.944494584837545\n",
            "NEWS_AND_MAGAZINES : 2.7978339350180503\n",
            "SOCIAL : 2.6624548736462095\n",
            "TRAVEL_AND_LOCAL : 2.33528880866426\n",
            "SHOPPING : 2.2450361010830324\n",
            "BOOKS_AND_REFERENCE : 2.1435018050541514\n",
            "DATING : 1.861462093862816\n",
            "VIDEO_PLAYERS : 1.7937725631768955\n",
            "MAPS_AND_NAVIGATION : 1.3989169675090252\n",
            "FOOD_AND_DRINK : 1.2409747292418771\n",
            "EDUCATION : 1.15072202166065\n",
            "ENTERTAINMENT : 0.947653429602888\n",
            "LIBRARIES_AND_DEMO : 0.9363718411552346\n",
            "AUTO_AND_VEHICLES : 0.9250902527075812\n",
            "HOUSE_AND_HOME : 0.8235559566787004\n",
            "WEATHER : 0.8009927797833934\n",
            "EVENTS : 0.7107400722021661\n",
            "PARENTING : 0.6543321299638989\n",
            "ART_AND_DESIGN : 0.6430505415162455\n",
            "COMICS : 0.6204873646209386\n",
            "BEAUTY : 0.5979241877256317\n",
            "\n",
            "\n",
            "Tools : 8.449909747292418\n",
            "Entertainment : 6.069494584837545\n",
            "Education : 5.347472924187725\n",
            "Business : 4.591606498194946\n",
            "Productivity : 3.892148014440433\n",
            "Lifestyle : 3.892148014440433\n",
            "Finance : 3.7003610108303246\n",
            "Medical : 3.531137184115524\n",
            "Sports : 3.463447653429603\n",
            "Personalization : 3.3167870036101084\n",
            "Communication : 3.2378158844765346\n",
            "Action : 3.1024368231046933\n",
            "Health & Fitness : 3.0798736462093865\n",
            "Photography : 2.944494584837545\n",
            "News & Magazines : 2.7978339350180503\n",
            "Social : 2.6624548736462095\n",
            "Travel & Local : 2.3240072202166067\n",
            "Shopping : 2.2450361010830324\n",
            "Books & Reference : 2.1435018050541514\n",
            "Simulation : 2.0419675090252705\n",
            "Dating : 1.861462093862816\n",
            "Arcade : 1.8501805054151623\n",
            "Video Players & Editors : 1.7712093862815883\n",
            "Casual : 1.7599277978339352\n",
            "Maps & Navigation : 1.3989169675090252\n",
            "Food & Drink : 1.2409747292418771\n",
            "Puzzle : 1.128158844765343\n",
            "Racing : 0.9927797833935018\n",
            "Role Playing : 0.9363718411552346\n",
            "Libraries & Demo : 0.9363718411552346\n",
            "Auto & Vehicles : 0.9250902527075812\n",
            "Strategy : 0.9138086642599278\n",
            "House & Home : 0.8235559566787004\n",
            "Weather : 0.8009927797833934\n",
            "Events : 0.7107400722021661\n",
            "Adventure : 0.6768953068592057\n",
            "Comics : 0.6092057761732852\n",
            "Beauty : 0.5979241877256317\n",
            "Art & Design : 0.5979241877256317\n",
            "Parenting : 0.4963898916967509\n",
            "Card : 0.45126353790613716\n",
            "Casino : 0.42870036101083037\n",
            "Trivia : 0.41741877256317694\n",
            "Educational;Education : 0.39485559566787\n",
            "Board : 0.3835740072202166\n",
            "Educational : 0.3722924187725632\n",
            "Education;Education : 0.33844765342960287\n",
            "Word : 0.2594765342960289\n",
            "Casual;Pretend Play : 0.236913357400722\n",
            "Music : 0.2030685920577617\n",
            "Racing;Action & Adventure : 0.16922382671480143\n",
            "Puzzle;Brain Games : 0.16922382671480143\n",
            "Entertainment;Music & Video : 0.16922382671480143\n",
            "Casual;Brain Games : 0.13537906137184114\n",
            "Casual;Action & Adventure : 0.13537906137184114\n",
            "Arcade;Action & Adventure : 0.12409747292418773\n",
            "Action;Action & Adventure : 0.10153429602888085\n",
            "Educational;Pretend Play : 0.09025270758122744\n",
            "Simulation;Action & Adventure : 0.078971119133574\n",
            "Parenting;Education : 0.078971119133574\n",
            "Entertainment;Brain Games : 0.078971119133574\n",
            "Board;Brain Games : 0.078971119133574\n",
            "Parenting;Music & Video : 0.06768953068592057\n",
            "Educational;Brain Games : 0.06768953068592057\n",
            "Casual;Creativity : 0.06768953068592057\n",
            "Art & Design;Creativity : 0.06768953068592057\n",
            "Education;Pretend Play : 0.056407942238267145\n",
            "Role Playing;Pretend Play : 0.04512635379061372\n",
            "Education;Creativity : 0.04512635379061372\n",
            "Role Playing;Action & Adventure : 0.033844765342960284\n",
            "Puzzle;Action & Adventure : 0.033844765342960284\n",
            "Entertainment;Creativity : 0.033844765342960284\n",
            "Entertainment;Action & Adventure : 0.033844765342960284\n",
            "Educational;Creativity : 0.033844765342960284\n",
            "Educational;Action & Adventure : 0.033844765342960284\n",
            "Education;Music & Video : 0.033844765342960284\n",
            "Education;Brain Games : 0.033844765342960284\n",
            "Education;Action & Adventure : 0.033844765342960284\n",
            "Adventure;Action & Adventure : 0.033844765342960284\n",
            "Video Players & Editors;Music & Video : 0.02256317689530686\n",
            "Sports;Action & Adventure : 0.02256317689530686\n",
            "Simulation;Pretend Play : 0.02256317689530686\n",
            "Puzzle;Creativity : 0.02256317689530686\n",
            "Music;Music & Video : 0.02256317689530686\n",
            "Entertainment;Pretend Play : 0.02256317689530686\n",
            "Casual;Education : 0.02256317689530686\n",
            "Board;Action & Adventure : 0.02256317689530686\n",
            "Video Players & Editors;Creativity : 0.01128158844765343\n",
            "Trivia;Education : 0.01128158844765343\n",
            "Travel & Local;Action & Adventure : 0.01128158844765343\n",
            "Tools;Education : 0.01128158844765343\n",
            "Strategy;Education : 0.01128158844765343\n",
            "Strategy;Creativity : 0.01128158844765343\n",
            "Strategy;Action & Adventure : 0.01128158844765343\n",
            "Simulation;Education : 0.01128158844765343\n",
            "Role Playing;Brain Games : 0.01128158844765343\n",
            "Racing;Pretend Play : 0.01128158844765343\n",
            "Puzzle;Education : 0.01128158844765343\n",
            "Parenting;Brain Games : 0.01128158844765343\n",
            "Music & Audio;Music & Video : 0.01128158844765343\n",
            "Lifestyle;Pretend Play : 0.01128158844765343\n",
            "Lifestyle;Education : 0.01128158844765343\n",
            "Health & Fitness;Education : 0.01128158844765343\n",
            "Health & Fitness;Action & Adventure : 0.01128158844765343\n",
            "Entertainment;Education : 0.01128158844765343\n",
            "Communication;Creativity : 0.01128158844765343\n",
            "Comics;Creativity : 0.01128158844765343\n",
            "Casual;Music & Video : 0.01128158844765343\n",
            "Card;Action & Adventure : 0.01128158844765343\n",
            "Books & Reference;Education : 0.01128158844765343\n",
            "Art & Design;Pretend Play : 0.01128158844765343\n",
            "Art & Design;Action & Adventure : 0.01128158844765343\n",
            "Arcade;Pretend Play : 0.01128158844765343\n",
            "Adventure;Education : 0.01128158844765343\n"
          ]
        }
      ]
    },
    {
      "cell_type": "markdown",
      "source": [
        "W tym przypadku największą popularnością cieszy się kategoria Family (19), a z gatunnków Tools (8,4). Skupmy się teraz na konkretnych gatunkach w zbiorze iOS."
      ],
      "metadata": {
        "id": "RGNHkssROHqn"
      }
    },
    {
      "cell_type": "code",
      "metadata": {
        "id": "BuHGWMmD517-",
        "colab": {
          "base_uri": "https://localhost:8080/"
        },
        "outputId": "24ee8874-9ee3-48d7-cb76-d4095de42ed3"
      },
      "source": [
        "genres_ios = freq_table(ios_free, 11)\n",
        "\n",
        "for genre in genres_ios:\n",
        "    total = 0\n",
        "    len_genre = 0\n",
        "    for app in ios_free:\n",
        "        genre_app = app[11]\n",
        "        if genre_app == genre:\n",
        "            n_ratings = float(app[5])\n",
        "            total += n_ratings\n",
        "            len_genre += 1\n",
        "    avg_n_ratings = total / len_genre\n",
        "    print(genre, ':', avg_n_ratings)"
      ],
      "execution_count": null,
      "outputs": [
        {
          "output_type": "stream",
          "name": "stdout",
          "text": [
            "Social Networking : 71548.34905660378\n",
            "Photo & Video : 28441.54375\n",
            "Games : 22788.6696905016\n",
            "Music : 57326.530303030304\n",
            "Reference : 74942.11111111111\n",
            "Health & Fitness : 23298.015384615384\n",
            "Weather : 52279.892857142855\n",
            "Utilities : 18684.456790123455\n",
            "Travel : 28243.8\n",
            "Shopping : 26919.690476190477\n",
            "News : 21248.023255813954\n",
            "Navigation : 86090.33333333333\n",
            "Lifestyle : 16485.764705882353\n",
            "Entertainment : 14029.830708661417\n",
            "Food & Drink : 33333.92307692308\n",
            "Sports : 23008.898550724636\n",
            "Book : 39758.5\n",
            "Finance : 31467.944444444445\n",
            "Education : 7003.983050847458\n",
            "Productivity : 21028.410714285714\n",
            "Business : 7491.117647058823\n",
            "Catalogs : 4004.0\n",
            "Medical : 612.0\n"
          ]
        }
      ]
    },
    {
      "cell_type": "markdown",
      "metadata": {
        "id": "jKRLROhB8KeF"
      },
      "source": [
        "Widzimy, że największą średnią ma kategoria Social Networking z wartością 71548.3. Warto się przyjrzeć, które z aplikacji w tej kategorii cieszą się największą popularnością."
      ]
    },
    {
      "cell_type": "code",
      "metadata": {
        "id": "7Tl3qrsW86_K",
        "colab": {
          "base_uri": "https://localhost:8080/"
        },
        "outputId": "5f22a93c-7c34-4e8b-e707-e5146e4db27f"
      },
      "source": [
        "for app in ios_free:\n",
        "  if app[11] == \"Social Networking\":\n",
        "    print(app[1], \":\", app[5])"
      ],
      "execution_count": null,
      "outputs": [
        {
          "output_type": "stream",
          "name": "stdout",
          "text": [
            "Facebook : 2974676\n",
            "Pinterest : 1061624\n",
            "Skype for iPhone : 373519\n",
            "Messenger : 351466\n",
            "Tumblr : 334293\n",
            "WhatsApp Messenger : 287589\n",
            "Kik : 260965\n",
            "ooVoo – Free Video Call, Text and Voice : 177501\n",
            "TextNow - Unlimited Text + Calls : 164963\n",
            "Viber Messenger – Text & Call : 164249\n",
            "Followers - Social Analytics For Instagram : 112778\n",
            "MeetMe - Chat and Meet New People : 97072\n",
            "We Heart It - Fashion, wallpapers, quotes, tattoos : 90414\n",
            "InsTrack for Instagram - Analytics Plus More : 85535\n",
            "Tango - Free Video Call, Voice and Chat : 75412\n",
            "LinkedIn : 71856\n",
            "Match™ - #1 Dating App. : 60659\n",
            "Skype for iPad : 60163\n",
            "POF - Best Dating App for Conversations : 52642\n",
            "Timehop : 49510\n",
            "Find My Family, Friends & iPhone - Life360 Locator : 43877\n",
            "Whisper - Share, Express, Meet : 39819\n",
            "Hangouts : 36404\n",
            "LINE PLAY - Your Avatar World : 34677\n",
            "WeChat : 34584\n",
            "Badoo - Meet New People, Chat, Socialize. : 34428\n",
            "Followers + for Instagram - Follower Analytics : 28633\n",
            "GroupMe : 28260\n",
            "Marco Polo Video Walkie Talkie : 27662\n",
            "Miitomo : 23965\n",
            "SimSimi : 23530\n",
            "Grindr - Gay and same sex guys chat, meet and date : 23201\n",
            "Wishbone - Compare Anything : 20649\n",
            "imo video calls and chat : 18841\n",
            "After School - Funny Anonymous School News : 18482\n",
            "Quick Reposter - Repost, Regram and Reshare Photos : 17694\n",
            "Weibo HD : 16772\n",
            "Repost for Instagram : 15185\n",
            "Live.me – Live Video Chat & Make Friends Nearby : 14724\n",
            "Nextdoor : 14402\n",
            "Followers Analytics for Instagram - InstaReport : 13914\n",
            "YouNow: Live Stream Video Chat : 12079\n",
            "FollowMeter for Instagram - Followers Tracking : 11976\n",
            "LINE : 11437\n",
            "eHarmony™ Dating App - Meet Singles : 11124\n",
            "Discord - Chat for Gamers : 9152\n",
            "QQ : 9109\n",
            "Telegram Messenger : 7573\n",
            "Weibo : 7265\n",
            "Periscope - Live Video Streaming Around the World : 6062\n",
            "Chat for Whatsapp - iPad Version : 5060\n",
            "QQ HD : 5058\n",
            "Followers Analysis Tool For Instagram App Free : 4253\n",
            "live.ly - live video streaming : 4145\n",
            "Houseparty - Group Video Chat : 3991\n",
            "SOMA Messenger : 3232\n",
            "Monkey : 3060\n",
            "Down To Lunch : 2535\n",
            "Flinch - Video Chat Staring Contest : 2134\n",
            "Highrise - Your Avatar Community : 2011\n",
            "LOVOO - Dating Chat : 1985\n",
            "PlayStation®Messages : 1918\n",
            "BOO! - Video chat camera with filters & stickers : 1805\n",
            "Qzone : 1649\n",
            "Chatous - Chat with new people : 1609\n",
            "Kiwi - Q&A : 1538\n",
            "GhostCodes - a discovery app for Snapchat : 1313\n",
            "Jodel : 1193\n",
            "FireChat : 1037\n",
            "Google Duo - simple video calling : 1033\n",
            "Fiesta by Tango - Chat & Meet New People : 885\n",
            "Google Allo — smart messaging : 862\n",
            "Peach — share vividly : 727\n",
            "Hey! VINA - Where Women Meet New Friends : 719\n",
            "Battlefield™ Companion : 689\n",
            "All Devices for WhatsApp - Messenger for iPad : 682\n",
            "Chat for Pokemon Go - GoChat : 500\n",
            "IAmNaughty – Dating App to Meet New People Online : 463\n",
            "Qzone HD : 458\n",
            "Zenly - Locate your friends in realtime : 427\n",
            "League of Legends Friends : 420\n",
            "豆瓣 : 407\n",
            "Candid - Speak Your Mind Freely : 398\n",
            "知乎 : 397\n",
            "Selfeo : 366\n",
            "Fake-A-Location Free ™ : 354\n",
            "Popcorn Buzz - Free Group Calls : 281\n",
            "Fam — Group video calling for iMessage : 279\n",
            "QQ International : 274\n",
            "Ameba : 269\n",
            "SoundCloud Pulse: for creators : 240\n",
            "Tantan : 235\n",
            "Cougar Dating & Life Style App for Mature Women : 213\n",
            "Rawr Messenger - Dab your chat : 180\n",
            "WhenToPost: Best Time to Post Photos for Instagram : 158\n",
            "Inke—Broadcast an amazing life : 147\n",
            "Mustknow - anonymous video Q&A : 53\n",
            "CTFxCmoji : 39\n",
            "Lobi : 36\n",
            "Chain: Collaborate On MyVideo Story/Group Video : 35\n",
            "botman - Real time video chat : 7\n",
            "BestieBox : 0\n",
            "MATCH ON LINE chat : 0\n",
            "niconico ch : 0\n",
            "LINE BLOG : 0\n",
            "bit-tube - Live Stream Video Chat : 0\n"
          ]
        }
      ]
    },
    {
      "cell_type": "markdown",
      "metadata": {
        "id": "ZKBSuP4Y9vHG"
      },
      "source": [
        "Przejdźmy teraz do danych dla Androida."
      ]
    },
    {
      "cell_type": "code",
      "metadata": {
        "id": "z8023IWhWmtH",
        "colab": {
          "base_uri": "https://localhost:8080/"
        },
        "outputId": "03c1b3f5-06c8-430b-cb71-5fe5b1cd16ec"
      },
      "source": [
        "categories_android = freq_table(android_free, 1)\n",
        "\n",
        "for category in categories_android:\n",
        "    total = 0\n",
        "    len_category = 0\n",
        "    for app in android_free:\n",
        "        category_app = app[1]\n",
        "        if category_app == category:\n",
        "            n_inistalls = app[5]\n",
        "            n_inistalls = n_inistalls.replace(',', '')\n",
        "            n_inistalls = n_inistalls.replace('+', '')\n",
        "            total += float(n_inistalls)\n",
        "            len_category += 1\n",
        "    avg_n_inistalls = total / len_category\n",
        "    print(category, ':', avg_n_inistalls)"
      ],
      "execution_count": null,
      "outputs": [
        {
          "output_type": "stream",
          "name": "stdout",
          "text": [
            "ART_AND_DESIGN : 1986335.0877192982\n",
            "FAMILY : 3698568.010720667\n",
            "AUTO_AND_VEHICLES : 647317.8170731707\n",
            "BEAUTY : 513151.88679245283\n",
            "BOOKS_AND_REFERENCE : 8767811.894736841\n",
            "BUSINESS : 1712290.1474201474\n",
            "COMICS : 817657.2727272727\n",
            "COMMUNICATION : 38456119.167247385\n",
            "TOOLS : 10801391.298666667\n",
            "DATING : 854028.8303030303\n",
            "EDUCATION : 1841666.6666666667\n",
            "ENTERTAINMENT : 11719761.904761905\n",
            "EVENTS : 253542.22222222222\n",
            "FINANCE : 1387692.475609756\n",
            "FOOD_AND_DRINK : 1924897.7363636363\n",
            "HEALTH_AND_FITNESS : 4188821.9853479853\n",
            "HOUSE_AND_HOME : 1331540.5616438356\n",
            "LIBRARIES_AND_DEMO : 638503.734939759\n",
            "LIFESTYLE : 1437816.2687861272\n",
            "GAME : 15594505.74912892\n",
            "VIDEO_PLAYERS : 24727872.452830188\n",
            "MEDICAL : 120550.61980830671\n",
            "SOCIAL : 23253652.127118643\n",
            "SHOPPING : 7036877.311557789\n",
            "PHOTOGRAPHY : 17840110.40229885\n",
            "SPORTS : 3638640.1428571427\n",
            "TRAVEL_AND_LOCAL : 13984077.710144928\n",
            "PERSONALIZATION : 5201482.6122448975\n",
            "PRODUCTIVITY : 16787331.344927534\n",
            "PARENTING : 542603.6206896552\n",
            "WEATHER : 5074486.197183099\n",
            "NEWS_AND_MAGAZINES : 9549178.467741935\n",
            "MAPS_AND_NAVIGATION : 4056941.7741935486\n"
          ]
        }
      ]
    },
    {
      "cell_type": "markdown",
      "metadata": {
        "id": "te1zLZbWXZ5d"
      },
      "source": [
        "Tutaj największy wynik przypisany jest ART_AND_DESIGN. Kolejna ciekawa opcja to również wcześniej wspomiane FAMILY. "
      ]
    },
    {
      "cell_type": "code",
      "source": [
        "for app in android_free:\n",
        "    if app[1] == 'ART_AND_DESIGN' and (app[5] == '1,000,000+'):\n",
        "        print(app[0], ':', app[5])"
      ],
      "metadata": {
        "colab": {
          "base_uri": "https://localhost:8080/"
        },
        "id": "h6q8KPXTPQIl",
        "outputId": "ff82029a-3b83-4b4f-a33d-954f5a94ed34"
      },
      "execution_count": null,
      "outputs": [
        {
          "output_type": "stream",
          "name": "stdout",
          "text": [
            "Infinite Painter : 1,000,000+\n",
            "Garden Coloring Book : 1,000,000+\n",
            "Text on Photo - Fonteee : 1,000,000+\n",
            "Name Art Photo Editor - Focus n Filters : 1,000,000+\n"
          ]
        }
      ]
    },
    {
      "cell_type": "markdown",
      "metadata": {
        "id": "CY0xs6K4YekC"
      },
      "source": [
        "*Podsumowanie.* W trakcie projektu analizowany były zbiory danych zawierające informacje na temat aplikacji na rynku Android oraz iOS. Naszym głównym założeniem było znalezienie takiego gatunku, które w obydwu kategoriach mógłby osiągnąć wysokie wyniki. Największym zainteresowaniem cieszyłaby się aplikacja, która bazowałaby na social networking(w przypadku iOS) oraz na sztuce(w przypadku Androida)."
      ]
    }
  ]
}